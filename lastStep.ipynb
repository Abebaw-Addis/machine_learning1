{
 "cells": [
  {
   "cell_type": "markdown",
   "metadata": {},
   "source": [
    "Importing Libraries"
   ]
  },
  {
   "cell_type": "code",
   "execution_count": null,
   "metadata": {},
   "outputs": [],
   "source": [
    "# Import necessary libraries\n",
    "import numpy as np\n",
    "import pandas as pd\n",
    "import matplotlib.pyplot as plt\n",
    "import seaborn as sns\n",
    "import joblib\n",
    "from sklearn.preprocessing import StandardScaler, OneHotEncoder\n",
    "from sklearn.model_selection import train_test_split, GridSearchCV\n",
    "from sklearn.ensemble import RandomForestRegressor\n",
    "from sklearn.pipeline import Pipeline\n",
    "from sklearn.compose import ColumnTransformer\n",
    "from sklearn.metrics import mean_absolute_error, mean_squared_error, r2_score"
   ]
  },
  {
   "cell_type": "markdown",
   "metadata": {},
   "source": [
    "Load the dataset and dispalay some other informations about the csv"
   ]
  },
  {
   "cell_type": "code",
   "execution_count": null,
   "metadata": {},
   "outputs": [],
   "source": [
    "# Load the dataset\n",
    "file_path = 'datasets/mobile_price.csv'\n",
    "df = pd.read_csv(file_path)\n",
    "\n",
    "# Display initial dataset information\n",
    "print(\"First few rows of the dataset:\")\n",
    "print(df.head())\n",
    "print(\"\\nDataset Columns:\", df.columns)\n",
    "print(\"\\nDataset Shape:\", df.shape)\n",
    "print(\"\\nDataset Info (Data Types & Missing Values):\")\n",
    "print(df.info())\n",
    "print(\"\\nDataset Values (First Few):\")\n",
    "print(df.values)"
   ]
  },
  {
   "cell_type": "markdown",
   "metadata": {},
   "source": [
    "Explanatory Data Analysis"
   ]
  },
  {
   "cell_type": "code",
   "execution_count": null,
   "metadata": {},
   "outputs": [],
   "source": [
    "# Summary statistics of dataset\n",
    "summary_stats = df.describe(include='all')\n",
    "print(\"\\nSummary Statistics:\")\n",
    "print(summary_stats)\n",
    "\n",
    "# Check and handle missing values: Fill missing values with the mode (most frequent value)\n",
    "missing_values = df.isnull().sum()\n",
    "print(\"Missing Values:\\n\", missing_values)\n",
    "df.fillna(df.mode().iloc[0], inplace=True)\n",
    "\n",
    "# Check for duplicate rows\n",
    "duplicates = df[df.duplicated(keep=False)]\n",
    "if not duplicates.empty:\n",
    "    print(\"\\nDuplicate rows found:\")\n",
    "    print(duplicates)\n",
    "else:\n",
    "    print(\"\\nNo duplicates found.\")\n",
    "\n",
    "# Remove duplicate rows if any\n",
    "df.drop_duplicates(inplace=True)\n",
    "\n",
    "# Check for missing values after filling\n",
    "missing_values = df.isnull().sum()\n",
    "print(\"\\nMissing Values After Imputation:\")\n",
    "print(missing_values)"
   ]
  },
  {
   "cell_type": "markdown",
   "metadata": {},
   "source": [
    "Classify categorical and numerical features and standardize categorical features"
   ]
  },
  {
   "cell_type": "code",
   "execution_count": null,
   "metadata": {},
   "outputs": [],
   "source": [
    "categorical_features = ['brand', 'os']\n",
    "numerical_features = [col for col in df.columns if col not in categorical_features + ['price']]\n",
    "\n",
    "# Standardize categorical values to lowercase for consistency\n",
    "df[categorical_features] = df[categorical_features].apply(lambda x: x.str.lower())"
   ]
  },
  {
   "cell_type": "markdown",
   "metadata": {},
   "source": [
    "Handle Inconsistencies and unexpected values"
   ]
  },
  {
   "cell_type": "code",
   "execution_count": null,
   "metadata": {},
   "outputs": [],
   "source": [
    "# check if 'price' or 'battery_power' has negative values\n",
    "negative_price = df[df['price'] < 0]\n",
    "negative_battery_power = df[df['battery_power'] < 0]\n",
    "print(\"\\nRows with Negative Price:\\n\", negative_price)\n",
    "print(\"\\nRows with Negative battery_power:\\n\", negative_battery_power)"
   ]
  },
  {
   "cell_type": "markdown",
   "metadata": {},
   "source": [
    "Price Analysis Results and Outlier Detection"
   ]
  },
  {
   "cell_type": "code",
   "execution_count": null,
   "metadata": {},
   "outputs": [],
   "source": [
    "# Check basic statistics of the price column\n",
    "price_column = \"price\"\n",
    "if price_column in df.columns:\n",
    "    price_stats = df[price_column].describe()\n",
    "    \n",
    "    # Identify potential outliers using IQR method\n",
    "    Q1 = df[price_column].quantile(0.25)\n",
    "    Q3 = df[price_column].quantile(0.75)\n",
    "    IQR = Q3 - Q1\n",
    "    lower_bound = Q1 - 1.5 * IQR\n",
    "    upper_bound = Q3 + 1.5 * IQR\n",
    "\n",
    "    outliers = df[(df[price_column] < lower_bound) | (df[price_column] > upper_bound)]\n",
    "    outliers_count = outliers.shape[0]  # Correct variable name\n",
    "    \n",
    "    # Plot the price distribution\n",
    "    plt.figure(figsize=(8, 5))\n",
    "    sns.histplot(df[price_column], bins=30, kde=True)\n",
    "    plt.title(\"Price Distribution\")\n",
    "    plt.xlabel(\"Price\")\n",
    "    plt.ylabel(\"Frequency\")\n",
    "    plt.show()\n",
    "\n",
    "    price_stats, outliers_count  # Return summary and number of outliers\n",
    "else:\n",
    "    price_stats = \"Price column not found in dataset.\"\n",
    "    outliers_count = 0\n",
    "\n",
    "price_stats, outliers_count"
   ]
  },
  {
   "cell_type": "markdown",
   "metadata": {},
   "source": [
    "Data Visualisation"
   ]
  },
  {
   "cell_type": "code",
   "execution_count": null,
   "metadata": {},
   "outputs": [],
   "source": [
    "\n",
    "# Plot boxplots for numerical features to check for outliers\n",
    "plt.figure(figsize=(20, 15))\n",
    "for i, feature in enumerate(numerical_features, 1):\n",
    "    plt.subplot(3, 5, i)\n",
    "    sns.boxplot(y=df[feature])\n",
    "    plt.title(f'Boxplot of {feature}')\n",
    "plt.tight_layout()\n",
    "plt.show()\n",
    "\n",
    "# Check the distribution of categorical variables\n",
    "for feature in categorical_features:\n",
    "    print(f\"\\nValue Counts for {feature}:\")\n",
    "    print(df[feature].value_counts())\n",
    "\n",
    "# Scatter plots for numerical features vs price to visualize relationships\n",
    "plt.figure(figsize=(20, 15))\n",
    "for i, feature in enumerate(numerical_features, 1):\n",
    "    plt.subplot(3, 5, i)\n",
    "    sns.scatterplot(x=df[feature], y=df['price'])\n",
    "    plt.title(f'{feature} vs price')\n",
    "    plt.xlabel(feature)\n",
    "    plt.ylabel('price')\n",
    "plt.tight_layout()\n",
    "plt.show()\n",
    "\n",
    "# Box plots for categorical features vs price to visualize distribution\n",
    "plt.figure(figsize=(15, 20))\n",
    "for i, feature in enumerate(categorical_features, 1):\n",
    "    plt.subplot(4, 2, i)\n",
    "    sns.boxplot(x=df[feature], y=df['price'])\n",
    "    plt.title(f'{feature} vs price')\n",
    "    plt.xlabel(feature)\n",
    "    plt.ylabel('price')\n",
    "plt.tight_layout()\n",
    "plt.show()\n",
    "\n",
    "# Correlation heatmap for numerical features\n",
    "correlation_matrix = df[numerical_features + ['price']].corr()\n",
    "plt.figure(figsize=(10, 8))\n",
    "sns.heatmap(correlation_matrix, annot=True, cmap='coolwarm', fmt='.2f')\n",
    "plt.title('Correlation Heatmap')\n",
    "plt.show()\n",
    "\n",
    "# Distribution graph for the target variable (price)\n",
    "plt.figure(figsize=(10, 6))\n",
    "plt.hist(df['price'], bins=25, color='green', alpha=0.7)\n",
    "plt.title('Distribution of Mobile Prices')\n",
    "plt.xlabel('Price')\n",
    "plt.ylabel('Frequency')\n",
    "plt.grid(axis='y')\n",
    "plt.show()\n",
    "\n",
    "# Count plot for the 'brand' feature\n",
    "plt.figure(figsize=(10, 6))\n",
    "sns.countplot(x='brand', data=df, hue='brand', palette='Set2', legend=False)\n",
    "plt.title('Count of Mobiles by Brand')\n",
    "plt.xlabel('Brand')\n",
    "plt.ylabel('Count')\n",
    "plt.grid(axis='y')\n",
    "plt.show()\n",
    "\n",
    "# Box plots for brand and os vs price\n",
    "plt.figure(figsize=(20, 12))\n",
    "plt.subplot(2, 3, 1)\n",
    "sns.boxplot(x='brand', y='price', data=df)\n",
    "plt.subplot(2, 3, 2)\n",
    "sns.boxplot(x='os', y='price', data=df)\n",
    "plt.show()\n",
    "\n",
    "# Scatter graph for battery_power vs price\n",
    "plt.figure(figsize=(10, 6))\n",
    "plt.scatter(df['battery_power'], df['price'], alpha=0.5, color='orange')\n",
    "plt.title('Price vs battery_power')\n",
    "plt.xlabel('battery_power (sq ft)')\n",
    "plt.ylabel('Price')\n",
    "plt.grid()\n",
    "plt.show()"
   ]
  },
  {
   "cell_type": "markdown",
   "metadata": {},
   "source": [
    "Scale or normalize numerical features"
   ]
  },
  {
   "cell_type": "code",
   "execution_count": null,
   "metadata": {},
   "outputs": [],
   "source": [
    "\n",
    "# Scaling numerical features and target variable\n",
    "scaler = StandardScaler()\n",
    "df[numerical_features] = scaler.fit_transform(df[numerical_features])\n",
    "\n",
    "# Apply separate scaling to 'price' and save the scaler\n",
    "price_scaler = StandardScaler()\n",
    "df[['price']] = price_scaler.fit_transform(df[['price']])\n",
    "joblib.dump(price_scaler, \"price_scaler.joblib\")"
   ]
  },
  {
   "cell_type": "markdown",
   "metadata": {},
   "source": [
    "Final data check"
   ]
  },
  {
   "cell_type": "code",
   "execution_count": null,
   "metadata": {},
   "outputs": [],
   "source": [
    "# Final dataset check\n",
    "print(\"\\nDataset Info after Preprocessing:\")\n",
    "print(df.info())\n",
    "print(\"\\nDataset Summary Statistics After Preprocessing:\")\n",
    "print(df.describe())"
   ]
  },
  {
   "cell_type": "markdown",
   "metadata": {},
   "source": [
    "Data Spliting to training and testing sets"
   ]
  },
  {
   "cell_type": "code",
   "execution_count": null,
   "metadata": {},
   "outputs": [],
   "source": [
    "# Split data into features (X) and target (y)\n",
    "X = df.drop(columns=['price'])\n",
    "y = df['price']\n",
    "\n",
    "# Split data into training and testing sets\n",
    "X_train, X_test, y_train, y_test = train_test_split(X, y, test_size=0.2, random_state=42)\n",
    "\n",
    "# Scale target variable\n",
    "y_scaler = StandardScaler()\n",
    "y_train_scaled = y_scaler.fit_transform(y_train.values.reshape(-1, 1)).flatten()\n",
    "y_test_scaled = y_scaler.transform(y_test.values.reshape(-1, 1)).flatten()"
   ]
  },
  {
   "cell_type": "markdown",
   "metadata": {},
   "source": [
    "Data preprocessing"
   ]
  },
  {
   "cell_type": "code",
   "execution_count": null,
   "metadata": {},
   "outputs": [],
   "source": [
    "# Define preprocessing pipeline for numerical and categorical features\n",
    "preprocessor = ColumnTransformer([\n",
    "    ('num', StandardScaler(), numerical_features),\n",
    "    ('cat', OneHotEncoder(), [col for col in df.columns if col.startswith('brand_') or col.startswith('os_')])\n",
    "])\n",
    "\n",
    "# Define model pipeline with RandomForestRegressor\n",
    "model = Pipeline([\n",
    "    ('preprocessor', preprocessor),\n",
    "    ('regressor', RandomForestRegressor(random_state=42))\n",
    "])"
   ]
  },
  {
   "cell_type": "markdown",
   "metadata": {},
   "source": [
    "Hyperparameter tuning"
   ]
  },
  {
   "cell_type": "code",
   "execution_count": null,
   "metadata": {},
   "outputs": [],
   "source": [
    "# Hyperparameter tuning with GridSearchCV\n",
    "param_grid = {\n",
    "    'regressor__n_estimators': [100, 200, 300],\n",
    "    'regressor__max_depth': [None, 10, 20, 30],\n",
    "    'regressor__min_samples_split': [2, 5, 10],\n",
    "    'regressor__min_samples_leaf': [1, 2, 4]\n",
    "}\n",
    "\n",
    "grid_search = GridSearchCV(model, param_grid, cv=3, scoring='neg_mean_squared_error', n_jobs=-1)\n",
    "grid_search.fit(X_train, y_train_scaled)\n",
    "\n",
    "# Print best hyperparameters\n",
    "best_params = {key.replace('regressor__', ''): value for key, value in grid_search.best_params_.items()}\n",
    "print(\"\\nBest Hyperparameters from GridSearchCV:\", best_params)"
   ]
  },
  {
   "cell_type": "markdown",
   "metadata": {},
   "source": [
    "Model Training"
   ]
  },
  {
   "cell_type": "code",
   "execution_count": null,
   "metadata": {},
   "outputs": [],
   "source": [
    "# Train the model\n",
    "model.fit(X_train, y_train_scaled)"
   ]
  },
  {
   "cell_type": "code",
   "execution_count": null,
   "metadata": {},
   "outputs": [],
   "source": [
    "# Train final model with best parameters\n",
    "final_model = Pipeline([\n",
    "    ('preprocessor', preprocessor),\n",
    "    ('regressor', RandomForestRegressor(**best_params, random_state=42))\n",
    "])\n",
    "final_model.fit(X_train, y_train)\n",
    "\n",
    "\n",
    "# Evaluate on the test set\n",
    "y_pred_final = final_model.predict(X_test)\n",
    "mae_final = mean_absolute_error(y_test, y_pred_final)\n",
    "print(f\"Final MAE: {mae_final}\")\n",
    "\n",
    "# Save the final model\n",
    "joblib.dump(final_model, \"model.joblib\")"
   ]
  },
  {
   "cell_type": "markdown",
   "metadata": {},
   "source": [
    "Make predictions on testing data"
   ]
  },
  {
   "cell_type": "code",
   "execution_count": null,
   "metadata": {},
   "outputs": [],
   "source": [
    "# Predict on the test set\n",
    "y_pred_scaled = final_model.predict(X_test)\n",
    "\n",
    "# Rescale predictions back to original price range\n",
    "y_pred_final = y_scaler.inverse_transform(y_pred_scaled.reshape(-1, 1)).flatten()"
   ]
  },
  {
   "cell_type": "markdown",
   "metadata": {},
   "source": [
    "Model Evaluation"
   ]
  },
  {
   "cell_type": "code",
   "execution_count": null,
   "metadata": {},
   "outputs": [],
   "source": [
    "# Calculate evaluation metrics\n",
    "mae = mean_absolute_error(y_test, y_pred_final)\n",
    "mse = mean_squared_error(y_test, y_pred_final)\n",
    "rmse = np.sqrt(mse)\n",
    "r2 = r2_score(y_test, y_pred_final)\n",
    "\n",
    "# Print evaluation results\n",
    "print(f\"\\nModel Evaluation Results:\")\n",
    "print(f\"MAE: {mae}\")\n",
    "print(f\"MSE: {mse}\")\n",
    "print(f\"RMSE: {rmse}\")\n",
    "print(f\"R² Score: {r2}\")"
   ]
  },
  {
   "cell_type": "markdown",
   "metadata": {},
   "source": [
    "Visualization after evaluation"
   ]
  },
  {
   "cell_type": "code",
   "execution_count": null,
   "metadata": {},
   "outputs": [],
   "source": [
    "# Visualization: Actual vs Predicted Prices\n",
    "plt.figure(figsize=(10, 6))\n",
    "plt.scatter(y_test, y_pred_final, alpha=0.5)\n",
    "plt.plot([min(y_test), max(y_test)], [min(y_test), max(y_test)], color='orange', linestyle='dotted')\n",
    "plt.xlabel('Actual Prices')\n",
    "plt.ylabel('Predicted Prices')\n",
    "plt.title('Actual vs Predicted Mobile Prices')\n",
    "plt.show()\n",
    "\n",
    "# Residual Plot\n",
    "residuals = y_test - y_pred_final\n",
    "plt.figure(figsize=(10, 6))\n",
    "plt.scatter(y_pred_final, residuals, alpha=0.5)\n",
    "plt.axhline(y=0, color='orange', linestyle='dotted')\n",
    "plt.xlabel('Predicted Prices')\n",
    "plt.ylabel('Residuals')\n",
    "plt.title('Residual Plot')\n",
    "plt.show()"
   ]
  },
  {
   "cell_type": "markdown",
   "metadata": {},
   "source": [
    "Model Performance Against Baseline"
   ]
  },
  {
   "cell_type": "code",
   "execution_count": null,
   "metadata": {},
   "outputs": [],
   "source": [
    "# Baseline Model for comparison\n",
    "y_baseline = np.full_like(y_test, y_train.mean())\n",
    "mae_baseline = mean_absolute_error(y_test, y_baseline)\n",
    "mse_baseline = mean_squared_error(y_test, y_baseline)\n",
    "rmse_baseline = np.sqrt(mse_baseline)\n",
    "r2_baseline = r2_score(y_test, y_baseline)\n",
    "\n",
    "# Print baseline model evaluation\n",
    "print(f\"\\nBaseline Model Evaluation:\")\n",
    "print(f\"Baseline MAE: {mae_baseline}\")\n",
    "print(f\"Baseline MSE: {mse_baseline}\")\n",
    "print(f\"Baseline RMSE: {rmse_baseline}\")\n",
    "print(f\"Baseline R²: {r2_baseline}\")"
   ]
  }
 ],
 "metadata": {
  "kernelspec": {
   "display_name": "base",
   "language": "python",
   "name": "python3"
  },
  "language_info": {
   "codemirror_mode": {
    "name": "ipython",
    "version": 3
   },
   "file_extension": ".py",
   "mimetype": "text/x-python",
   "name": "python",
   "nbconvert_exporter": "python",
   "pygments_lexer": "ipython3",
   "version": "3.12.7"
  }
 },
 "nbformat": 4,
 "nbformat_minor": 2
}
